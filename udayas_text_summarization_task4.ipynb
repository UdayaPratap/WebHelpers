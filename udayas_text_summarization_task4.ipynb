{
 "cells": [
  {
   "cell_type": "code",
   "execution_count": 8,
   "metadata": {},
   "outputs": [
    {
     "name": "stderr",
     "output_type": "stream",
     "text": [
      "[nltk_data] Downloading package punkt to\n",
      "[nltk_data]     C:\\Users\\ASUS\\AppData\\Roaming\\nltk_data...\n",
      "[nltk_data]   Package punkt is already up-to-date!\n"
     ]
    }
   ],
   "source": [
    "import pandas as pd\n",
    "import random\n",
    "import nltk\n",
    "nltk.download('punkt')  # Download the Punkt tokenizer data (only once)\n",
    "\n",
    "from nltk.tokenize import sent_tokenize\n",
    "from nltk.tokenize import word_tokenize"
   ]
  },
  {
   "cell_type": "markdown",
   "metadata": {},
   "source": [
    "# Pick random products to summarize"
   ]
  },
  {
   "cell_type": "code",
   "execution_count": 28,
   "metadata": {},
   "outputs": [],
   "source": [
    "# Load your dataset (adjust the file path)\n",
    "df = pd.read_csv('amazon_data.csv')\n",
    "\n",
    "# Select 5 random products\n",
    "random_products = df.sample(n=5, random_state=54)  # You can adjust the random_state as needed"
   ]
  },
  {
   "cell_type": "markdown",
   "metadata": {},
   "source": [
    "# Define function to summarize using the NLTK language library "
   ]
  },
  {
   "cell_type": "code",
   "execution_count": 29,
   "metadata": {},
   "outputs": [],
   "source": [
    "# Function for extractive summarization\n",
    "def extractive_summarize(text, num_sentences=2):\n",
    "    sentences = sent_tokenize(text)\n",
    "    word_frequencies = {}\n",
    "    \n",
    "    for sentence in sentences:\n",
    "        words = word_tokenize(sentence)\n",
    "        for word in words:\n",
    "            if word not in word_frequencies:\n",
    "                word_frequencies[word] = 1\n",
    "            else:\n",
    "                word_frequencies[word] += 1\n",
    "    \n",
    "    sentence_scores = {}\n",
    "    for sentence in sentences:\n",
    "        for word in word_tokenize(sentence):\n",
    "            if word in word_frequencies:\n",
    "                if sentence not in sentence_scores:\n",
    "                    sentence_scores[sentence] = word_frequencies[word]\n",
    "                else:\n",
    "                    sentence_scores[sentence] += word_frequencies[word]\n",
    "    \n",
    "    summary_sentences = sorted(sentence_scores, key=sentence_scores.get, reverse=True)[:num_sentences]\n",
    "    summary = ' '.join(summary_sentences)\n",
    "    \n",
    "    return summary"
   ]
  },
  {
   "cell_type": "markdown",
   "metadata": {},
   "source": [
    "# Apply summarization on the random products"
   ]
  },
  {
   "cell_type": "code",
   "execution_count": 30,
   "metadata": {},
   "outputs": [
    {
     "name": "stdout",
     "output_type": "stream",
     "text": [
      "Product Title: Sony Bravia 215 cm (85 inches) 4K Ultra HD Smart LED Google TV KD-85X80L (Black)\n",
      "Price: nan\n",
      "Rating: 4.6 stars\n",
      "Reviews Count: nan\n",
      "Availability: In stock\n",
      "\n",
      "Original Description:\n",
      "Resolution: 4K Ultra HD (3840 x 2160) | Refresh Rate: 60 Hertz | 178 Degree wide viewing angle Connectivity: 4 HDMI ports to connect set top box, gaming console | 2 USB ports to connect hard drives and other USB devices Sound : 20 Watts Output | X Balanced Speaker| Dolby Atmos | Clear Phase | Sound Ambient Optimization Smart TV Features: Google TV, Watchlist, Ok Google, Google Play, Chromecast, Built In Mic, BRAVIA CAM Support, Video Call, Additional Features: Apple Airplay | Supported Apps: Netflix, Amazon Prime Video, Disney+ Hotstar, Sony Liv, Zee5, Voot, Jio Cinema & many More Display: 4K HDR Processor X1 | 4K HDR | Triluminos Pro| Dolby Vision | 4K X Reality Pro | Motion Flow XR200 | ALLM (Auto Low Latency Mode) Warranty Information: 1 year comprehensive warranty on product provided by the brand from the date of purchase\n",
      "\n",
      "Summarized Description:\n",
      "Resolution: 4K Ultra HD (3840 x 2160) | Refresh Rate: 60 Hertz | 178 Degree wide viewing angle Connectivity: 4 HDMI ports to connect set top box, gaming console | 2 USB ports to connect hard drives and other USB devices Sound : 20 Watts Output | X Balanced Speaker| Dolby Atmos | Clear Phase | Sound Ambient Optimization Smart TV Features: Google TV, Watchlist, Ok Google, Google Play, Chromecast, Built In Mic, BRAVIA CAM Support, Video Call, Additional Features: Apple Airplay | Supported Apps: Netflix, Amazon Prime Video, Disney+ Hotstar, Sony Liv, Zee5, Voot, Jio Cinema & many More Display: 4K HDR Processor X1 | 4K HDR | Triluminos Pro| Dolby Vision | 4K X Reality Pro | Motion Flow XR200 | ALLM (Auto Low Latency Mode) Warranty Information: 1 year comprehensive warranty on product provided by the brand from the date of purchase\n",
      "\n",
      "Original Reviews:\n",
      "['I recently upgraded my home entertainment setup with the Sony Bravia KD-43X80L 4K Ultra HD Smart LED Google TV, and I am absolutely thrilled with this television. From its stunning visual quality to the array of smart features, this TV has exceeded my expectations in every way possible. The Sony Bravia KD-43X80L has taken my home entertainment to an entirely new level of excellence. This 43-inch 4K Ultra HD Smart LED Google TV is an epitome of innovation and top-notch quality. Every aspect of this television, from its captivating visuals to its comprehensive smart features, has exceeded my wildest expectations.Breathtaking 4K Visuals:The 4K Ultra HD resolution of the Sony Bravia KD-43X80L is a game-changer. The level of detail, clarity, and vibrant colors that this TV delivers is truly breathtaking. From movies to sports to gaming, every content type benefits from the immersive and lifelike visuals. The Triluminos Pro and Dolby Vision technologies further enhance the color accuracy and dynamic range, making every frame pop with realism. The crystal-clear 4K resolution on this TV brings lifelike clarity to every scene. Coupled with a refresh rate of 60 Hz, the visual experience is seamless and immersive. From breathtaking landscapes to fast-paced action, the display delivers consistently crisp and vibrant imagery.Smooth and Fluid Motion:The 60 Hertz refresh rate and Motion Flow XR200 technology ensure smooth and fluid motion, eliminating any blurring during fast-paced scenes. Whether it\\'s action-packed movies or intense gaming sessions, the TV keeps up without missing a beat.Wide Viewing Angle:The 178-degree wide viewing angle is a fantastic addition. It ensures that everyone in the room gets a consistent and impressive viewing experience, no matter where they\\'re seated. This is a huge advantage when watching movies or hosting friends for sports events.Impressive Connectivity Options:The Sony Bravia KD-43X80L leaves no stone unturned when it comes to connectivity. With 4 HDMI ports and 2 USB ports, I have no trouble connecting all my devices, from set-top boxes to gaming consoles and hard drives. The USB ports are especially handy for quick and hassle-free media playback.Sound Quality That Matches the Visuals:The 20 Watts Output combined with X Balanced Speaker technology and Dolby Atmos support create an audio experience that\\'s just as immersive as the visuals. The sound is crisp, well-balanced, and with Dolby Atmos, it feels like I\\'m right in the middle of the action. The Clear Phase and Sound Ambient Optimization further enhance the sound quality for a truly cinematic experience.Robust Smart Features:The Google TV platform is a highlight of this television. From \"Ok Google\" voice commands to Google Play Store access, everything is seamlessly integrated. The inclusion of Chromecast and built-in microphone support is incredibly convenient. The BRAVIA CAM support and video call capabilities add a new dimension to staying connected with friends and family.Support for Popular Apps:With support for apps like Netflix, Amazon Prime Video, Disney+ Hotstar, Sony Liv, Zee5, Voot, and Jio Cinema, the Sony Bravia KD-43X80L offers an extensive range of entertainment options. Additionally, the support for Apple Airplay expands the possibilities even further.Reliable Warranty Coverage:The 1-year comprehensive warranty provided by the brand is reassuring and showcases Sony\\'s confidence in the durability and quality of this TV.Wide Range of Supported Internet Services:The list of supported internet services is truly impressive. From streaming giants like Netflix, Amazon Prime Video, and Disney+ Hotstar to popular apps like Zee5, Sony Liv, Voot, and Jio Cinema, this TV ensures that you\\'ll never run out of entertainment options. The inclusion of Apple Airplay and Apple Homekit further broadens the horizons of compatibility.Innovative Google TV Platform:The Google TV platform has transformed my TV time into an interactive and intuitive experience. The Watchlist feature, voice search, Google Play Store access, and built-in Chromecast make navigating and accessing content effortless. The integration of Alexa adds an extra layer of convenience to my daily tasks.Impressive Sound Quality and Display Technology:The 20 Watts Output combined with the X Balanced Speaker and Dolby Atmos support elevate the audio quality to a cinematic level. The sound is rich, detailed, and immersive. The LED display technology, along with features like Triluminos Pro and Dolby Vision, enhances color accuracy and dynamic range, making every frame come to life.Sleek Design and User-Friendly Dimensions:The sleek design of the KD-43X80L adds a touch of modern elegance to my living room. The compact product dimensions of 6.9D x 96.4W x 56.3H Centimeters allow for easy placement in various settings.Complete Package and Easy Setup:The package comes complete with everything you need for setup - 1 LED TV, 1 AC Power Cord, 1 Remote Control, 1 Table-Top Stand, 1 User Manual, and 2 AAA Batteries. The user manual guides you through the setup process, ensuring that you\\'re up and running in no time.Final Thoughts:In conclusion, the Sony Bravia KD-43X80L is a masterpiece that combines cutting-edge technology with a user-friendly interface. Its remarkable 4K visuals, impressive sound quality, intuitive Google TV platform, and extensive app support make it a standout choice for anyone seeking an exceptional entertainment experience. With its sleek design, easy setup, and comprehensive features, this TV is a true gem that has earned its 5-star rating with flying colors. If you\\'re in search of a television that offers both superior performance and an array of smart functionalities, the Sony Bravia KD-43X80L is a top-tier choice that won\\'t disappoint. Also, the Sony Bravia KD-43X80L 4K Ultra HD Smart LED Google TV is a masterpiece of entertainment technology. Its stunning visuals, impressive audio quality, versatile connectivity options, robust smart features, and extensive app support make it a standout choice for any home theater setup. If you\\'re seeking an immersive and top-notch viewing experience, this TV is an investment that you won\\'t regret. It\\'s a complete package that delivers on all fronts, and I wholeheartedly give it a 5-star rating.\\nRead more', 'Nice TV\\nRead more', 'Installation and Demo completed by Mohammad from R. logic sony  services  center.\\nRead more', 'I got on time delivery and Instalation service\\nRead more', 'Good service on time installation by sony team.\\nRead more', \"It's really good product 👍👍\\nRead more\", 'Excellent product\\nRead more', 'The media could not be loaded.\\n                \\n\\n\\n\\n\\xa0Really love the quality from SonyFrom the point of to delivery to installation and obviously quality of the product.Amazing !\\nRead more']\n",
      "\n",
      "Summarized Reviews:\n",
      "It\\'s a complete package that delivers on all fronts, and I wholeheartedly give it a 5-star rating.\\nRead more', 'Nice TV\\nRead more', 'Installation and Demo completed by Mohammad from R. logic sony  services  center.\\nRead more', 'I got on time delivery and Instalation service\\nRead more', 'Good service on time installation by sony team.\\nRead more', \"It's really good product 👍👍\\nRead more\", 'Excellent product\\nRead more', 'The media could not be loaded.\\n                \\n\\n\\n\\n\\xa0Really love the quality from SonyFrom the point of to delivery to installation and obviously quality of the product.Amazing !\\nRead more'] The BRAVIA CAM support and video call capabilities add a new dimension to staying connected with friends and family.Support for Popular Apps:With support for apps like Netflix, Amazon Prime Video, Disney+ Hotstar, Sony Liv, Zee5, Voot, and Jio Cinema, the Sony Bravia KD-43X80L offers an extensive range of entertainment options. The compact product dimensions of 6.9D x 96.4W x 56.3H Centimeters allow for easy placement in various settings.Complete Package and Easy Setup:The package comes complete with everything you need for setup - 1 LED TV, 1 AC Power Cord, 1 Remote Control, 1 Table-Top Stand, 1 User Manual, and 2 AAA Batteries.\n",
      "\n",
      "========================================\n",
      "\n",
      "Product Title: ASIAN Men's Synthetic Sports,Running,Casual Loafer Shoes for Boy's\n",
      "Price: nan\n",
      "Rating: 3.8 out of 5 stars\n",
      "Reviews Count: nan\n",
      "Availability: In stock\n",
      "\n",
      "Original Description:\n",
      "Sole: Ethylene Vinyl Acetate Closure: Pull On Heel Height: 1.2 inches Fit Type: Regular Shoe Width: Medium Moccasins with velcro shoes Upper Features: New, Breathable air mesh upper which is easily washable, perfect for all seasons - winter, summer and rainy, designed to give you the most comfortable fitting. These are quick drying washable shoes which makes it easy for consumers to wash and sanitize them easily. Sole Features: Height increasing non marking EVA sole made with light weight compound and orthopedic soft cushion insole which provides extra comfort to your feet with a perfect grip.\n",
      "\n",
      "Summarized Description:\n",
      "Sole: Ethylene Vinyl Acetate Closure: Pull On Heel Height: 1.2 inches Fit Type: Regular Shoe Width: Medium Moccasins with velcro shoes Upper Features: New, Breathable air mesh upper which is easily washable, perfect for all seasons - winter, summer and rainy, designed to give you the most comfortable fitting. Sole Features: Height increasing non marking EVA sole made with light weight compound and orthopedic soft cushion insole which provides extra comfort to your feet with a perfect grip.\n",
      "\n",
      "Original Reviews:\n",
      "['The look of this soul is quite good but it has a hard soul while moving it gets in notice also stiching is not perfect there are extra thread comming out of shoes however if we take it with as 600 rupees shoes it is decent\\nRead more', \"Ensure your size first before buying.Sometimes it makes noise while walking on floor, otherwise it's a good shoes in this range.\\nRead more\", 'Fine\\nRead more', 'Worth for rs ,600\\nRead more', 'Better around 400 rupees\\nRead more', 'Worth the price.\\nRead more', \"It's a good product\\nRead more\", 'Good one\\nRead more']\n",
      "\n",
      "Summarized Reviews:\n",
      "['The look of this soul is quite good but it has a hard soul while moving it gets in notice also stiching is not perfect there are extra thread comming out of shoes however if we take it with as 600 rupees shoes it is decent\\nRead more', \"Ensure your size first before buying.Sometimes it makes noise while walking on floor, otherwise it's a good shoes in this range.\\nRead more\", 'Fine\\nRead more', 'Worth for rs ,600\\nRead more', 'Better around 400 rupees\\nRead more', 'Worth the price.\\nRead more', \"It's a good product\\nRead more\", 'Good one\\nRead more']\n",
      "\n",
      "========================================\n",
      "\n",
      "Product Title: TCL 80.04 cm (32 inches) Bezel-Less S Series HD Ready Smart Android LED TV 32S5400A (Black)\n",
      "Price: nan\n",
      "Rating: 4.2 stars\n",
      "Reviews Count: nan\n",
      "Availability: In stock\n",
      "\n",
      "Original Description:\n",
      "Google Assistant | HD Ready TV + HDR 10 |T-cast | Apps: Netflix, Youtube, Prime Video & 7000+ Apps | Maximum Content: 10,62,000 Hours | Pure Entertainment\n",
      "\n",
      "Summarized Description:\n",
      "Google Assistant | HD Ready TV + HDR 10 |T-cast | Apps: Netflix, Youtube, Prime Video & 7000+ Apps | Maximum Content: 10,62,000 Hours | Pure Entertainment\n",
      "\n",
      "Original Reviews:\n",
      "['Overall bit above average.Pros-Start time is good.Shut down is almost immediately after button press.Installation done next day after receiving the product.Sound quality is good for room 11X12 if there is bigger room or hall then it will be low.Google TV looks bit better then AndroidCons-Side view angle not good.Challenge to set custom brightness and color composition. It seems too bright although there are some defaults options like movies, sports etc.Tv remote is very light I think if it falls couple of time then it may break so need to get cover.Not sure about Full HD home screen seems low resolution not able to find any difference with HD\\nRead more', \"I recently purchased this tv.. overall the tv is good. I purshased FHD model so Picture quality is good as expected. And i have also connected it to my pc to play games.. worked finePros.1.Beautiful edge less design.2.Great picture quality.3.Gaming is good.4.Voice assistant works almost perfectly.5.Supports all ott platforms.6.You can install third-party apps also.Cons.1.Sound quality is okay but it is very low, you have to connect a external audio device to enjoy the content. I am using the tv at 100 volume and still it's not enough sometimes. So please don't buy it if you're looking for a loud sound tv.2.Ui is slow and hangs sometimes.3.Only 1 usb port so you can't use a mouse and a pendrive at once.4.No wall mount included.5.Free installation is a joke. They'll charge 350 to 400. If you want to mount it on a wall.6.Home screen interface has a low resolution, look bad sometimes.7.Sound modes doesn't really work at all.Conclusion: Don't get me wrong with the cons it's good tv with this price, but I'll recommend you to buy on a sale only with cr. card discounts n all.\\nRead more\", 'I purchased TCL t.v through online by AMAZON on 22nd  August delivered in my address. I liked the t.v picture quality is good ,I installed the t.v by my colleague, Computer engineer,t.v is standing on stand ,I received the phone call from the service provider for installation but no one arrived. In the warranty card mentioned fill the card without dealer stamp card will not be accepted, why no one came for installation?\\nRead more', 'TCL Android TV is Best TV\\nRead more', 'Good\\nRead more', 'Product is good, satisfied.\\nRead more', 'Read more', 'Read more']\n",
      "\n",
      "Summarized Reviews:\n",
      "In the warranty card mentioned fill the card without dealer stamp card will not be accepted, why no one came for installation?\\nRead more', 'TCL Android TV is Best TV\\nRead more', 'Good\\nRead more', 'Product is good, satisfied.\\nRead more', 'Read more', 'Read more'] It seems too bright although there are some defaults options like movies, sports etc.Tv remote is very light I think if it falls couple of time then it may break so need to get cover.Not sure about Full HD home screen seems low resolution not able to find any difference with HD\\nRead more', \"I recently purchased this tv.. overall the tv is good. I liked the t.v picture quality is good ,I installed the t.v by my colleague, Computer engineer,t.v is standing on stand ,I received the phone call from the service provider for installation but no one arrived.\n",
      "\n",
      "========================================\n",
      "\n",
      "Product Title: U-TURN Casual Shirt for Men|| Shirt for Men|| Men Stylish Shirt || Men Printed Striped Shirt\n",
      "Price: nan\n",
      "Rating: 3.5 out of 5 stars\n",
      "Reviews Count: nan\n",
      "Availability: In stock\n",
      "\n",
      "Original Description:\n",
      "Care Instructions: Machine Wash Fit Type: Slim Fit Slim Fit, Full Sleeves, Premium, extremely soft finish and Rich look Pattern: Printed Stripes Collar Type: Spread PLEASE REFER THE SIZE CHART IMAGE BEFORE ORDER.\n",
      "\n",
      "Summarized Description:\n",
      "Care Instructions: Machine Wash Fit Type: Slim Fit Slim Fit, Full Sleeves, Premium, extremely soft finish and Rich look Pattern: Printed Stripes Collar Type: Spread PLEASE REFER THE SIZE CHART IMAGE BEFORE ORDER.\n",
      "\n",
      "Original Reviews:\n",
      "['Not good in this price range\\nRead more', 'कपड़ा और फिटिंग बहुत बढ़िया है\\nRead more', 'Very nice value of money\\nRead more', 'Exactly the same as shown, must buy its worth the money \\U0001faf6🏻❤️\\nRead more', 'Good quality as expected\\nRead more', \"Cloths quality is good but not very good.Product exchange time is very long. That's why i am not exchange this product 😔\\nRead more\", 'Very comfortable for summer wear\\nRead more', 'It has a good quality clothes and fitting as I am excepting\\nRead more']\n",
      "\n",
      "Summarized Reviews:\n",
      "['Not good in this price range\\nRead more', 'कपड़ा और फिटिंग बहुत बढ़िया है\\nRead more', 'Very nice value of money\\nRead more', 'Exactly the same as shown, must buy its worth the money \\U0001faf6🏻❤️\\nRead more', 'Good quality as expected\\nRead more', \"Cloths quality is good but not very good.Product exchange time is very long. That's why i am not exchange this product 😔\\nRead more\", 'Very comfortable for summer wear\\nRead more', 'It has a good quality clothes and fitting as I am excepting\\nRead more']\n",
      "\n",
      "========================================\n",
      "\n",
      "Product Title: Lifelong Health Faucet Gun, Hand Jet Bidet Spray Head|ABS Material|Health Faucet for Bathroom|Wall Mount Installation (LLBAHFH19, Chrome, 1 Year Warranty)\n",
      "Price: nan\n",
      "Rating: 4.0 out of 5 stars\n",
      "Reviews Count: nan\n",
      "Availability: In stock\n",
      "\n",
      "Original Description:\n",
      "This health faucet is made of ABS Material, which is leak free, resist to high pressure, and avoid blasting Flexible: This health faucet product is small and flexible that you can freely adjust the direction. High performance: Tested for superior performance in low water pressure and poor water quality conditions as screen washer prevent clogging. Wall Mounting Hook: Designed with your modern bath in mind the faucet can be hung on the wall when not in use. Lifelong delivers a quality finish for a quality product you deserve. Durable: Stainless steel with chrome finishes and anti-corrosion, adding style, quality and durability.\n",
      "\n",
      "Summarized Description:\n",
      "This health faucet is made of ABS Material, which is leak free, resist to high pressure, and avoid blasting Flexible: This health faucet product is small and flexible that you can freely adjust the direction. High performance: Tested for superior performance in low water pressure and poor water quality conditions as screen washer prevent clogging.\n",
      "\n",
      "Original Reviews:\n",
      "['Bought gun. Fits in with existing hose. Good flow. Looks great. No leak. Will give further updates after a few months.\\nRead more', 'But rubber tube inside spiral steel pipe is very weak doesn’t stand pressure of water in high rise building\\nRead more', \"It's useful and the quality of product is nice with reasonable price. Thanks.\\nRead more\", 'Good product with price range, fit to  existing pipe , worth saving if only need gun. Function is okay. Only pressure spray need more what compared to my old Hidnware faucet. Overall okay and advice to use this one.\\nRead more', 'It looks fabulous and works almost perfectly for long time ( some pores get blocked which is normal)\\nRead more', 'The product is good and help me to catch the rat\\nRead more', 'Fantastic and light weight spray from Lifelong. The logo looks good too.\\nRead more', 'Light weight\\nRead more']\n",
      "\n",
      "Summarized Reviews:\n",
      "Overall okay and advice to use this one.\\nRead more', 'It looks fabulous and works almost perfectly for long time ( some pores get blocked which is normal)\\nRead more', 'The product is good and help me to catch the rat\\nRead more', 'Fantastic and light weight spray from Lifelong. Will give further updates after a few months.\\nRead more', 'But rubber tube inside spiral steel pipe is very weak doesn’t stand pressure of water in high rise building\\nRead more', \"It's useful and the quality of product is nice with reasonable price. Thanks.\\nRead more\", 'Good product with price range, fit to  existing pipe , worth saving if only need gun.\n",
      "\n",
      "========================================\n",
      "\n"
     ]
    }
   ],
   "source": [
    "# Perform extractive summarization for random products and display results\n",
    "for index, row in random_products.iterrows():\n",
    "    title = row['title']\n",
    "    price = row['price']\n",
    "    rating = row['rating']\n",
    "    reviews_count = row['reviews_count']\n",
    "    availability = row['availability']\n",
    "    description = row['description']\n",
    "    reviews = row['reviews']  # Assuming 'reviews' is the name of the column containing reviews\n",
    "    \n",
    "    print(\"Product Title:\", title)\n",
    "    print(\"Price:\", price)\n",
    "    print(\"Rating:\", rating)\n",
    "    print(\"Reviews Count:\", reviews_count)\n",
    "    print(\"Availability:\", availability)\n",
    "    \n",
    "    print(\"\\nOriginal Description:\")\n",
    "    print(description)\n",
    "    \n",
    "    summarized_description = extractive_summarize(description)\n",
    "    print(\"\\nSummarized Description:\")\n",
    "    print(summarized_description)\n",
    "    \n",
    "    print(\"\\nOriginal Reviews:\")\n",
    "    print(reviews)\n",
    "    \n",
    "    summarized_reviews = extractive_summarize(reviews, num_sentences=3)  # You can adjust the number of sentences for reviews\n",
    "    print(\"\\nSummarized Reviews:\")\n",
    "    print(summarized_reviews)\n",
    "    \n",
    "    print(\"\\n\" + \"=\"*40 + \"\\n\")"
   ]
  },
  {
   "cell_type": "code",
   "execution_count": null,
   "metadata": {},
   "outputs": [],
   "source": []
  }
 ],
 "metadata": {
  "kernelspec": {
   "display_name": "tf",
   "language": "python",
   "name": "python3"
  },
  "language_info": {
   "codemirror_mode": {
    "name": "ipython",
    "version": 3
   },
   "file_extension": ".py",
   "mimetype": "text/x-python",
   "name": "python",
   "nbconvert_exporter": "python",
   "pygments_lexer": "ipython3",
   "version": "3.9.17"
  },
  "orig_nbformat": 4
 },
 "nbformat": 4,
 "nbformat_minor": 2
}
